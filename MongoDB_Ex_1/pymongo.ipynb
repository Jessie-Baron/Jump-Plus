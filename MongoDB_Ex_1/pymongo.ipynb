{
 "cells": [
  {
   "cell_type": "code",
   "execution_count": 3,
   "metadata": {},
   "outputs": [],
   "source": [
    "import pymongo"
   ]
  },
  {
   "cell_type": "code",
   "execution_count": 10,
   "metadata": {},
   "outputs": [],
   "source": [
    "my_client = pymongo.MongoClient(\"mongodb://localhost:27017/\")\n",
    "\n",
    "my_db = myclient[\"mydb\"]"
   ]
  },
  {
   "cell_type": "code",
   "execution_count": 6,
   "metadata": {},
   "outputs": [],
   "source": [
    "emp_id = my_db['empId']\n",
    "emp_fname = my_db['EmpFname']\n",
    "emp_lname = my_db['EmpLname']\n",
    "department = my_db['Department']\n",
    "project = my_db['Project']\n",
    "address = my_db['Address']\n",
    "dob = my_db['DOB']\n",
    "gender = my_db['Gender']\n",
    "emp_position = my_db['EmpPosition']\n",
    "date_of_joining = my_db['DateOfJoining']\n",
    "salary = my_db['Salary']\n",
    "\n"
   ]
  },
  {
   "cell_type": "code",
   "execution_count": 14,
   "metadata": {},
   "outputs": [
    {
     "data": {
      "text/plain": [
       "<pymongo.results.InsertManyResult at 0x7fe31284db70>"
      ]
     },
     "execution_count": 14,
     "metadata": {},
     "output_type": "execute_result"
    }
   ],
   "source": [
    "emp_id.insert_many([{\"1\" : 1},{\"2\" : 2 },{\"3\" : 3},{\"4\" : 4},{\"5\" : 5}])\n",
    "emp_fname.insert_many([{\"1\" : \"Sanjay\"},{\"2\" : \"Ananya\" },{\"3\" : \"Rohan\"},{\"4\" : \"Sonia\"},{\"5\" : \"Ankit\"}])\n",
    "emp_lname.insert_many([{\"1\" : \"Mehra\"},{\"2\" : \"Mishra\" },{\"3\" : \"Diwan\"},{\"4\" : \"Kulkarni\"},{\"5\" : \"Kapoor\"}])\n",
    "department.insert_many([{\"1\" : \"HR\"},{\"2\" : \"Admin\" },{\"3\" : \"Account\"},{\"4\" : \"HR\"},{\"5\" : \"Admin\"}])\n",
    "project.insert_many([{\"1\" : \"P1\"},{\"2\" : \"P2\" },{\"3\" : \"P3\"},{\"4\" : \"P1\"},{\"5\" : \"P2\"}])\n",
    "address.insert_many([{\"1\" : {\"City\" : \"Hyderabad(HYD)\", \"State\" : \"Telangana\"}},{\"2\" : {\"City\" : \"Delhi(DEL)\" }},{\"3\" : {\"City\" : \"Mumbai(BOM)\", \"State\" : \"Maharashtra\"}},{\"4\" : {\"City\" : \"Hyderabad(HYD)\", \"State\" : \"Telagana\"}},{\"5\" : {\"City\" : \"Delhi(DEL\"}}])\n",
    "dob.insert_many([{\"1\" : {\"Month\" : 1, \"Day\" : 12, \"Year\" : 1976}}, {\"2\" : {\"Month\" : 2, \"Day\" : 5, \"Year\" : 1968}}, {\"3\" : {\"Month\" : 1, \"Day\" : 1, \"Year\" : 1980}}, {\"4\" : {\"Month\" : 2, \"Day\" : 5, \"Year\" : 1992}}, {\"5\" : {\"Month\" : 3, \"Day\" : 7, \"Year\" : 1994}}])\n",
    "gender.insert_many([{\"1\" : \"M\"},{\"2\" : \"F\" },{\"3\" : \"M\"},{\"4\" : \"F\"},{\"5\" : \"M\"}])\n",
    "emp_position.insert_many([{\"1\" : \"Manager\"},{\"2\" : \"Executive\" },{\"3\" : \"Manager\"},{\"4\" : \"Lead\"},{\"5\" : \"Executive\"}])\n",
    "date_of_joining.insert_many([{\"1\" : {\"Month\" : 1, \"Day\" : 5, \"Year\" : 2022}}, {\"2\" : {\"Month\" : 2, \"Day\" : 5, \"Year\" : 2022}}, {\"3\" : {\"Month\" : 1, \"Day\" : 5, \"Year\" : 2022}}, {\"4\" : {\"Month\" : 2, \"Day\" : 5, \"Year\" : 2022}}, {\"5\" : {\"Month\" : 1, \"Day\" : 5, \"Year\" : 2022}}])\n",
    "salary.insert_many([{\"1\" : 500000},{\"2\" : 75000 },{\"3\" : 90000},{\"4\" : 85000},{\"5\" : 300000}])"
   ]
  },
  {
   "cell_type": "code",
   "execution_count": null,
   "metadata": {},
   "outputs": [],
   "source": []
  }
 ],
 "metadata": {
  "kernelspec": {
   "display_name": "base",
   "language": "python",
   "name": "python3"
  },
  "language_info": {
   "codemirror_mode": {
    "name": "ipython",
    "version": 3
   },
   "file_extension": ".py",
   "mimetype": "text/x-python",
   "name": "python",
   "nbconvert_exporter": "python",
   "pygments_lexer": "ipython3",
   "version": "3.10.9"
  },
  "orig_nbformat": 4
 },
 "nbformat": 4,
 "nbformat_minor": 2
}
